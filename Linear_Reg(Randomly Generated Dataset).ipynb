{
 "cells": [
  {
   "cell_type": "code",
   "execution_count": 183,
   "metadata": {},
   "outputs": [],
   "source": [
    "import pandas as pd #importing all the necessary liibraries to create our model from scratch\n",
    "import numpy as np\n",
    "import matplotlib.pyplot as plt\n",
    "%matplotlib inline"
   ]
  },
  {
   "cell_type": "code",
   "execution_count": 184,
   "metadata": {},
   "outputs": [],
   "source": [
    "from sklearn.datasets.samples_generator import make_regression"
   ]
  },
  {
   "cell_type": "code",
   "execution_count": 213,
   "metadata": {},
   "outputs": [],
   "source": [
    "x,y = make_regression(n_samples = 200,n_features = 1,n_informative = 1,noise = 6,bias = 30,random_state = 200)\n",
    "m = 200 #generating our random dataset using make_regression from sklearn"
   ]
  },
  {
   "cell_type": "code",
   "execution_count": 214,
   "metadata": {},
   "outputs": [
    {
     "data": {
      "text/plain": [
       "Text(0, 0.5, 'y-output variable')"
      ]
     },
     "execution_count": 214,
     "metadata": {},
     "output_type": "execute_result"
    },
    {
     "data": {
      "image/png": "[encoded data removed]",
      "text/plain": [
       "<Figure size 432x288 with 1 Axes>"
      ]
     },
     "metadata": {
      "needs_background": "light"
     },
     "output_type": "display_data"
    }
   ],
   "source": [
    "plt.scatter(x,y,color = 'red',alpha = 0.5,marker = 'o') #visualising our data with a scatter plot\n",
    "plt.xlabel(\"x-independent variable\")\n",
    "plt.ylabel(\"y-output variable\")"
   ]
  },
  {
   "cell_type": "markdown",
   "metadata": {},
   "source": [
    "Linear Model"
   ]
  },
  {
   "cell_type": "code",
   "execution_count": 215,
   "metadata": {},
   "outputs": [],
   "source": [
    "def hypothesis(x,w):\n",
    "    return(w[1]*np.array(x[:,0])+w[0])"
   ]
  },
  {
   "cell_type": "code",
   "execution_count": 216,
   "metadata": {},
   "outputs": [
    {
     "name": "stdout",
     "output_type": "stream",
     "text": [
      "[[-0.05358755]\n",
      " [ 0.81490518]\n",
      " [ 1.15805552]\n",
      " [-0.75361164]\n",
      " [ 1.92273803]\n",
      " [ 1.22923449]\n",
      " [-0.25665373]\n",
      " [-0.3916012 ]\n",
      " [-0.13390765]\n",
      " [ 1.31594368]\n",
      " [ 0.75272929]\n",
      " [-0.43224009]\n",
      " [-0.66643198]\n",
      " [ 0.82272281]\n",
      " [-1.86451829]\n",
      " [-1.52007408]\n",
      " [ 0.62675835]\n",
      " [ 1.84213516]\n",
      " [-1.0844555 ]\n",
      " [ 2.18609495]\n",
      " [-0.07992433]\n",
      " [-0.35957085]\n",
      " [-0.27289366]\n",
      " [ 2.21796653]\n",
      " [ 0.73690722]\n",
      " [-0.95172629]\n",
      " [ 1.19279792]\n",
      " [ 0.19991277]\n",
      " [ 0.32154286]\n",
      " [-0.22134672]\n",
      " [-0.19478459]\n",
      " [-0.84640754]\n",
      " [-0.01471103]\n",
      " [-0.8677184 ]\n",
      " [ 0.76579565]\n",
      " [-0.11879521]\n",
      " [-1.00900322]\n",
      " [-0.1968985 ]\n",
      " [ 0.59205971]\n",
      " [ 0.52423795]\n",
      " [ 1.21498404]\n",
      " [ 0.52045974]\n",
      " [ 0.21215972]\n",
      " [ 0.72311791]\n",
      " [-0.2327679 ]\n",
      " [-0.63968302]\n",
      " [-1.95027664]\n",
      " [ 0.55642577]\n",
      " [-0.41238072]\n",
      " [-0.11856477]\n",
      " [-0.29594898]\n",
      " [ 0.52518578]\n",
      " [ 0.49022774]\n",
      " [ 0.2630036 ]\n",
      " [-1.74434015]\n",
      " [-0.21495011]\n",
      " [ 0.21348149]\n",
      " [ 0.60437586]\n",
      " [ 0.2584544 ]\n",
      " [ 0.47725678]\n",
      " [-0.33175226]\n",
      " [-0.33215113]\n",
      " [-1.11952533]\n",
      " [-0.13055295]\n",
      " [-0.14479561]\n",
      " [-0.24249065]\n",
      " [ 0.0204526 ]\n",
      " [-0.86291629]\n",
      " [ 0.21853781]\n",
      " [-1.56145563]\n",
      " [-1.01929046]\n",
      " [ 1.61904563]\n",
      " [-0.24088278]\n",
      " [ 1.26157625]\n",
      " [-0.43895725]\n",
      " [ 2.08347422]\n",
      " [ 1.30328603]\n",
      " [-0.03294967]\n",
      " [-0.12485667]\n",
      " [ 0.06542526]\n",
      " [-1.95566295]\n",
      " [-2.00653453]\n",
      " [-0.07213603]\n",
      " [-1.76498398]\n",
      " [ 2.24698967]\n",
      " [-1.25115029]\n",
      " [-0.35463776]\n",
      " [-0.13549052]\n",
      " [-0.29465727]\n",
      " [ 0.7125135 ]\n",
      " [ 0.25737463]\n",
      " [-0.03008042]\n",
      " [-1.28142901]\n",
      " [-0.06996847]\n",
      " [ 0.04974017]\n",
      " [-0.30642407]\n",
      " [-0.24821806]\n",
      " [ 1.90577562]\n",
      " [ 0.55370177]\n",
      " [ 0.2455297 ]\n",
      " [-0.04667467]\n",
      " [ 2.2133805 ]\n",
      " [-0.21351859]\n",
      " [-0.69537307]\n",
      " [ 0.29745439]\n",
      " [-0.73603076]\n",
      " [ 0.0888159 ]\n",
      " [ 2.39702707]\n",
      " [-0.41132865]\n",
      " [ 1.71106875]\n",
      " [ 0.0673945 ]\n",
      " [ 1.01734895]\n",
      " [ 0.69049189]\n",
      " [-1.15418177]\n",
      " [-0.64653444]\n",
      " [ 0.53459462]\n",
      " [-0.68322017]\n",
      " [-0.94861729]\n",
      " [-1.638067  ]\n",
      " [-0.84437193]\n",
      " [-1.15141763]\n",
      " [-0.65360768]\n",
      " [-0.88974969]\n",
      " [-0.96813926]\n",
      " [ 0.66597247]\n",
      " [ 0.03292246]\n",
      " [-0.52967163]\n",
      " [ 1.38609443]\n",
      " [-0.68652344]\n",
      " [-0.6792212 ]\n",
      " [ 1.2124852 ]\n",
      " [ 0.06986397]\n",
      " [ 1.20272375]\n",
      " [-0.40408192]\n",
      " [ 1.46492525]\n",
      " [ 0.6438291 ]\n",
      " [ 0.69673284]\n",
      " [ 0.21408824]\n",
      " [ 0.98530909]\n",
      " [ 0.382583  ]\n",
      " [ 0.71187915]\n",
      " [ 0.97823615]\n",
      " [ 0.77328417]\n",
      " [-0.24773829]\n",
      " [ 1.91171178]\n",
      " [-1.14883292]\n",
      " [-0.63517242]\n",
      " [-0.04241359]\n",
      " [-1.06997395]\n",
      " [ 0.3401741 ]\n",
      " [-0.35644507]\n",
      " [ 1.58203196]\n",
      " [ 1.11773591]\n",
      " [ 0.2376315 ]\n",
      " [ 0.59944615]\n",
      " [ 0.18199109]\n",
      " [ 2.34805122]\n",
      " [-0.48286855]\n",
      " [-1.42595201]\n",
      " [ 0.90744408]\n",
      " [-0.46698477]\n",
      " [-0.98463583]\n",
      " [ 0.79200593]\n",
      " [ 0.49985347]\n",
      " [-2.55798096]\n",
      " [-0.15125239]\n",
      " [-1.86793528]\n",
      " [ 1.00001438]\n",
      " [-1.45094825]\n",
      " [-1.05723508]\n",
      " [-1.07824164]\n",
      " [ 0.09743798]\n",
      " [ 0.42273453]\n",
      " [ 0.16227964]\n",
      " [ 1.91095313]\n",
      " [ 0.44375837]\n",
      " [-0.69193937]\n",
      " [ 0.74731893]\n",
      " [ 0.36146623]\n",
      " [ 0.46313872]\n",
      " [-0.03143433]\n",
      " [ 1.33764141]\n",
      " [ 0.02570574]\n",
      " [ 1.77857249]\n",
      " [ 1.03588743]\n",
      " [ 0.07324913]\n",
      " [ 0.35786937]\n",
      " [ 0.31125086]\n",
      " [ 0.03181006]\n",
      " [-0.66553423]\n",
      " [ 0.94702945]\n",
      " [ 0.805794  ]\n",
      " [-0.86301704]\n",
      " [ 0.2674604 ]\n",
      " [-0.60884936]\n",
      " [-0.56406935]\n",
      " [ 0.64311606]\n",
      " [ 0.01007315]\n",
      " [ 0.77047831]\n",
      " [-1.29375908]]\n"
     ]
    }
   ],
   "source": [
    "print(x) #x is a matrix"
   ]
  },
  {
   "cell_type": "code",
   "execution_count": 217,
   "metadata": {},
   "outputs": [
    {
     "name": "stdout",
     "output_type": "stream",
     "text": [
      "[36.88325346 41.4284682  41.95441238 23.95182201 52.67785917 34.62596852\n",
      " 22.28124594 40.44804886 22.60461363 49.88591486 26.4956713  20.57517039\n",
      " 15.2754705  24.04842313 17.7911797  25.10924042 30.00687843 36.29797318\n",
      " 10.72471891 50.24957873 34.82059046 33.73658725 31.39478645 44.42262545\n",
      " 35.7006979  29.9457969  31.47380446 31.15710431 31.14713261 33.36514844\n",
      " 22.85491133 21.27554839 29.13340211 26.73169999 33.63280404 33.59582351\n",
      " 27.16318389 29.02274523 45.93127317 37.18672727 42.70643559 15.87362965\n",
      " 35.94069058 42.06646884 26.67989019 25.28033888  9.02171149 33.38033323\n",
      " 23.00553969 26.98323892 25.99554331 36.72316923 35.62425966 28.66425855\n",
      " 12.19148457 30.63465681 35.04100296 35.64187416 30.63531011 36.79405459\n",
      " 27.949774   25.79841788 25.49408577 21.57281939 25.18529652 33.92752488\n",
      " 31.77907235 19.70219235 20.99454518 23.1733545  23.20928728 47.37613148\n",
      " 21.16837085 35.33099261 22.62810476 59.85669215 50.53302055 33.27359479\n",
      " 37.815114   30.09261689 15.15194149 19.60513786 21.96032834 12.07706077\n",
      " 37.09536882 18.3645578  25.81598846 27.54947512 20.1404085  43.34489713\n",
      " 35.44759399 33.61042103 30.47713032 35.72145954 24.64183732 21.07621749\n",
      " 26.5873547  53.52776277 29.92584431 38.9835727  28.22727076 42.14404899\n",
      " 34.39451518 29.54261557 33.74310434 31.1930811  31.52519679 64.39127186\n",
      " 22.6776837  40.6908815  33.60094922 38.18560725 25.56934158 17.66015125\n",
      " 26.19129715 34.43478746 19.2854916  16.76248446  3.25488432 21.19362484\n",
      " 17.54254406 28.88254037 35.82641118 17.08372702 34.88871619 28.23894054\n",
      " 31.48296459 41.33275484 33.86343023 34.90521053 40.08148263 42.05388254\n",
      " 52.70892508 32.53720392 42.95661851 36.42252704 41.45702697 26.23394\n",
      " 34.8236403  25.02728725 31.16135153 42.16149063 42.50578396 19.45670774\n",
      " 50.5115823  13.28013557 19.14045815 21.40729026 17.16242435 28.08510956\n",
      " 20.00612226 40.74436389 39.94008621 40.56709916 28.90609813 33.9409108\n",
      " 42.85839245 25.41938526 25.09995074 25.31132818 24.14079875 20.69154473\n",
      " 37.45191943 51.18157867 13.13120257 27.89748575  8.40392856 42.28135585\n",
      " 13.36061708 26.76826743 10.39956479 41.72921956 36.73870942 33.0991534\n",
      " 58.21940824 32.93174286 23.6387795  32.17767991 40.94566539 36.32914659\n",
      " 28.03518154 36.81144895 27.94583122 48.00680793 40.70025189 32.28837975\n",
      " 44.30270271 25.25019798 37.83670561 34.03521318 40.27915292 35.24925471\n",
      " 13.15534947 24.70746865 27.59031146 21.15903633 40.46490609 30.05466587\n",
      " 34.8820782  17.63786985]\n"
     ]
    }
   ],
   "source": [
    "print(y) #y is an array"
   ]
  },
  {
   "cell_type": "markdown",
   "metadata": {},
   "source": [
    "Cost Function"
   ]
  },
  {
   "cell_type": "code",
   "execution_count": 218,
   "metadata": {},
   "outputs": [],
   "source": [
    "def cost(w,x,y):\n",
    "    return (.5/m) * np.sum(np.square(hypothesis(x,w) - np.array(y))) #this is formula to calculate the cost function"
   ]
  },
  {
   "cell_type": "markdown",
   "metadata": {},
   "source": [
    "Gradient Descent"
   ]
  },
  {
   "cell_type": "code",
   "execution_count": 219,
   "metadata": {},
   "outputs": [],
   "source": [
    "def grad(w,x,y):\n",
    "    g = [0]*2 #an array to store the partial derivatives with respect to w0 and w1\n",
    "    g[0] = (1/m) * np.sum(hypothesis(x,w) - np.array(y)) #finding the partial  derivatives of w0 w.r.t cost function \n",
    "    g[1] = (1/m) * np.sum((hypothesis(x,w) - np.array(y)) * np.array(x[:,0])) #finding partial derivative of w1 w.r.t cost function\n",
    "    return g"
   ]
  },
  {
   "cell_type": "code",
   "execution_count": 228,
   "metadata": {},
   "outputs": [],
   "source": [
    "def descent(w_new,w_prev,lr): #here lr is the learning rate \n",
    "    print(w_prev)\n",
    "    print(cost(w_prev,x,y))\n",
    "    j = 0 #stores the number of iterations\n",
    "    while True:\n",
    "        w_prev = w_new #updating the values of w\n",
    "        w0 = w_prev[0] - lr*grad(w_prev,x,y)[0] #performing the gradient descent on w0\n",
    "        w1 = w_prev[1] - lr*grad(w_prev,x,y)[1] #performing the gradient descent on w1\n",
    "        w_new = [w0,w1] #updating values of w0 and w1 in w_new\n",
    "        print(w_new)\n",
    "        print(cost(w_new,x,y))\n",
    "        if(w_new[0] - w_prev[0]) **2 + (w_new[1] - w_prev[1]) **2 <= pow(10,-6): #calculating the square of distances between two points and terminating if it is less than 10 to the power -6\n",
    "            return w_new\n",
    "        if j>500: #if the total number of iteration exceeds 500 we terminate the process\n",
    "            return w_new\n",
    "        j +=1"
   ]
  },
  {
   "cell_type": "markdown",
   "metadata": {},
   "source": [
    "Initializing Parameters"
   ]
  },
  {
   "cell_type": "code",
   "execution_count": 229,
   "metadata": {},
   "outputs": [],
   "source": [
    "w = [0,-1]"
   ]
  },
  {
   "cell_type": "markdown",
   "metadata": {},
   "source": [
    "Training the model"
   ]
  },
  {
   "cell_type": "code",
   "execution_count": 230,
   "metadata": {
    "scrolled": true
   },
   "outputs": [
    {
     "name": "stdout",
     "output_type": "stream",
     "text": [
      "[0, -1]\n",
      "540.5360663843456\n",
      "[3.0956308633447547, 0.11442770988081663]\n",
      "437.91139336428444\n",
      "[5.873446610978822, 1.1023454281382854]\n",
      "355.5039050187037\n",
      "[8.366165526017987, 1.9778657783247602]\n",
      "289.3267499184995\n",
      "[10.603129563187093, 2.753547324958939]\n",
      "236.1799750745718\n",
      "[12.610653489037027, 3.440564026385428]\n",
      "193.49509649539323\n",
      "[14.412337853388406, 4.048856351454087]\n",
      "159.2103901995911\n",
      "[16.0293495446536, 4.587266032213945]\n",
      "131.6708284668908\n",
      "[17.480673291820082, 5.063656213710697]\n",
      "109.54778810165583\n",
      "[18.7833371265594, 5.485018573380515]\n",
      "91.77462156224563\n",
      "[19.952614505935692, 5.857568814053481]\n",
      "77.49495508304668\n",
      "[21.002205515744066, 6.186831784078626]\n",
      "66.02119816099949\n",
      "[21.944399323224108, 6.4777173436470505]\n",
      "56.801246289923824\n",
      "[22.79021982273288, 6.734587976310905]\n",
      "49.39175789964725\n",
      "[23.549556216205993, 6.961319037445921]\n",
      "43.436706577550574\n",
      "[24.23128008944935, 7.1613524356181975]\n",
      "38.6501664442448\n",
      "[24.843350383306017, 7.337744457271138]\n",
      "34.802494555336104\n",
      "[25.39290751357782, 7.493208368754656]\n",
      "31.709239459080347\n",
      "[25.88635776349851, 7.630152361500887]\n",
      "29.22223761683571\n",
      "[26.329448955986066, 7.750713345236864]\n",
      "27.22246575546644\n",
      "[26.727338308440384, 7.85678703973609]\n",
      "25.614302554322332\n",
      "[27.084653279240058, 7.950054767051352]\n",
      "24.320921533807876\n",
      "[27.405546131200424, 8.032007302818467]\n",
      "23.280591944370723\n",
      "[27.69374286207346, 8.10396610651881]\n",
      "22.443708530267372\n",
      "[27.952587084793493, 8.167102216040767]\n",
      "21.77040640846802\n",
      "[28.1850793797893, 8.222453061042739]\n",
      "21.22864568158778\n",
      "[28.393912587566714, 8.270937422096216]\n",
      "20.792673176173675\n",
      "[28.581503461264624, 8.313368738022628]\n",
      "20.44178697219165\n",
      "[28.75002105541824, 8.350466941915155]\n",
      "20.159344055135406\n",
      "[28.901412188203544, 8.382868986773879]\n",
      "19.93196319200716\n",
      "[29.03742427951789, 8.411138204226754]\n",
      "19.74888457866804\n",
      "[29.159625835953786, 8.435772624233959]\n",
      "19.601455387770752\n",
      "[29.2694248256702, 8.45721236977788]\n",
      "19.482716431969585\n",
      "[29.368085161021078, 8.475846228144906]\n",
      "19.387070041859424\n",
      "[29.45674148426251, 8.492017489347575]\n",
      "19.310013179228125\n",
      "[29.536412431457247, 8.506029132372674]\n",
      "19.24792295396926\n",
      "[29.60801253158606, 8.518148431144402]\n",
      "19.19788424005612\n",
      "[29.672362881642048, 8.528611044246796]\n",
      "19.157551114830053\n",
      "[29.73020072393229, 8.537624645454327]\n",
      "19.125035474814123\n",
      "[29.782188038766204, 8.545372145882025]\n",
      "19.09881748922257\n",
      "[29.828919254015993, 8.552014553005522]\n",
      "19.077673602614112\n",
      "[29.87092816255075, 8.557693506843796]\n",
      "19.06061864154971\n",
      "[29.90869412914744, 8.562533529178292]\n",
      "19.046859257450855\n",
      "[29.942647660055936, 8.566644017743355]\n",
      "19.035756481849372\n",
      "[29.97317540084111, 8.57012101381262]\n",
      "19.026795607153897\n",
      "[30.000624621352255, 8.573048768478005]\n",
      "19.019561957024997\n",
      "[30.025307240597662, 8.57550113013079]\n",
      "19.013721392385282\n",
      "[30.047503438857856, 8.577542773171217]\n",
      "19.009004625587373\n",
      "[30.067464899489234, 8.579230285760998]\n",
      "19.005194597236063\n",
      "[30.085417718492856, 8.580613132462974]\n",
      "19.00211631637512\n",
      "[30.101565015998244, 8.581734505857439]\n",
      "18.99962868224005\n",
      "[30.11608928029284, 8.582632079662158]\n",
      "18.99761790019706\n",
      "[30.12915447187187, 8.583338674491873]\n",
      "18.995992180371438\n",
      "[30.14090791215345, 8.583882846154577]\n",
      "18.994677468461337\n",
      "[30.151481978966018, 8.584289405279359]\n",
      "18.993614007260764\n",
      "[30.160995628639302, 8.58457987608947]\n",
      "18.99275356682987\n",
      "[30.169555762489143, 8.584772901261081]\n",
      "18.992057212939287\n",
      "[30.177258453655917, 8.584884599031389]\n",
      "18.991493508895633\n",
      "[30.184190048614877, 8.584928878028586]\n",
      "18.991037066345022\n",
      "[30.190428156204195, 8.584917714681556]\n",
      "18.99066737713041\n",
      "[30.196042535696083, 8.584861397520429]\n",
      "18.99036787153328\n",
      "[30.201095894251807, 8.584768742193141]\n",
      "18.990125158892102\n",
      "[30.205644603039065, 8.58464728059093]\n",
      "18.989928415168315\n",
      "[30.20973934033721, 8.584503427091704]\n",
      "18.98976888893204\n",
      "[30.21342566910097, 8.58434262458882]\n",
      "18.98963950279431\n",
      "[30.216744555686475, 8.584169472669567]\n",
      "18.989534531782173\n",
      "[30.219732835755565, 8.58398784003826]\n",
      "18.9894493437512\n",
      "[30.22242363275721, 8.583800963039536]\n",
      "18.989380189826502\n",
      "[30.22484673383125, 8.583611531925033]\n",
      "18.989324035195228\n",
      "[30.227028927482966, 8.583421766317985]\n",
      "18.989278422451623\n",
      "[30.228994306931416, 8.583233481162887]\n",
      "18.98924136120799\n",
      "[30.23076454263459, 8.583048144298838]\n",
      "18.98921123890338\n",
      "[30.23235912713573, 8.582866926663364]\n",
      "18.98918674872298\n",
      "[30.233795595053294, 8.582690746016727]\n",
      "18.98916683133221\n",
      "[30.235089720748128, 8.582520304973011]\n",
      "18.989150627766747\n",
      "[30.23625569594233, 8.582356124032495]\n",
      "18.98913744133326\n",
      "[30.237306289331627, 8.582198570228412]\n",
      "18.989126706789886\n",
      "[30.238252990024396, 8.582047881929046]\n",
      "18.98911796540923\n",
      "[30.238252990024396, 8.582047881929046]\n"
     ]
    }
   ],
   "source": [
    "w = descent(w,w,.1)\n",
    "print(w)"
   ]
  },
  {
   "cell_type": "code",
   "execution_count": 231,
   "metadata": {},
   "outputs": [
    {
     "data": {
      "text/plain": [
       "Text(0, 0.5, 'y-output variable')"
      ]
     },
     "execution_count": 231,
     "metadata": {},
     "output_type": "execute_result"
    },
    {
     "data": {
      "image/png": "[encoded data removed]",
      "text/plain": [
       "<Figure size 432x288 with 1 Axes>"
      ]
     },
     "metadata": {
      "needs_background": "light"
     },
     "output_type": "display_data"
    }
   ],
   "source": [
    "def vis(formula ,x_range):\n",
    "    x1 = np.array(x_range)\n",
    "    y = formula(x1)\n",
    "    plt.plot(x1,y)\n",
    "    \n",
    "    \n",
    "def my_formula(x1):\n",
    "    return w[0]+w[1]*x1\n",
    "    \n",
    "    \n",
    "plt.scatter(x,y,color = 'red',alpha = 0.5,marker = 'o')\n",
    "vis(my_formula, range(-4,4))\n",
    "plt.xlabel(\"x-independent variable\")\n",
    "plt.ylabel(\"y-output variable\")"
   ]
  },
  {
   "cell_type": "code",
   "execution_count": null,
   "metadata": {},
   "outputs": [],
   "source": []
  },
  {
   "cell_type": "code",
   "execution_count": null,
   "metadata": {},
   "outputs": [],
   "source": []
  },
  {
   "cell_type": "code",
   "execution_count": null,
   "metadata": {},
   "outputs": [],
   "source": []
  }
 ],
 "metadata": {
  "kernelspec": {
   "display_name": "Python 3",
   "language": "python",
   "name": "python3"
  },
  "language_info": {
   "codemirror_mode": {
    "name": "ipython",
    "version": 3
   },
   "file_extension": ".py",
   "mimetype": "text/x-python",
   "name": "python",
   "nbconvert_exporter": "python",
   "pygments_lexer": "ipython3",
   "version": "3.7.6"
  }
 },
 "nbformat": 4,
 "nbformat_minor": 4
}
