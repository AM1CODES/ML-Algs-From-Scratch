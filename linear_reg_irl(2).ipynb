{
 "cells": [
  {
   "cell_type": "code",
   "execution_count": 33,
   "metadata": {},
   "outputs": [],
   "source": [
    "import pandas as pd\n",
    "import numpy as np\n",
    "import matplotlib.pyplot as plt\n",
    "import seaborn as sns\n",
    "%matplotlib inline"
   ]
  },
  {
   "cell_type": "code",
   "execution_count": 34,
   "metadata": {},
   "outputs": [
    {
     "data": {
      "text/html": [
       "<div>\n",
       "<style scoped>\n",
       "    .dataframe tbody tr th:only-of-type {\n",
       "        vertical-align: middle;\n",
       "    }\n",
       "\n",
       "    .dataframe tbody tr th {\n",
       "        vertical-align: top;\n",
       "    }\n",
       "\n",
       "    .dataframe thead th {\n",
       "        text-align: right;\n",
       "    }\n",
       "</style>\n",
       "<table border=\"1\" class=\"dataframe\">\n",
       "  <thead>\n",
       "    <tr style=\"text-align: right;\">\n",
       "      <th></th>\n",
       "      <th>Manufacturer</th>\n",
       "      <th>Model</th>\n",
       "      <th>Sales_in_thousands</th>\n",
       "      <th>__year_resale_value</th>\n",
       "      <th>Vehicle_type</th>\n",
       "      <th>Price_in_thousands</th>\n",
       "      <th>Engine_size</th>\n",
       "      <th>Horsepower</th>\n",
       "      <th>Wheelbase</th>\n",
       "      <th>Width</th>\n",
       "      <th>Length</th>\n",
       "      <th>Curb_weight</th>\n",
       "      <th>Fuel_capacity</th>\n",
       "      <th>Fuel_efficiency</th>\n",
       "      <th>Latest_Launch</th>\n",
       "      <th>Power_perf_factor</th>\n",
       "    </tr>\n",
       "  </thead>\n",
       "  <tbody>\n",
       "    <tr>\n",
       "      <th>0</th>\n",
       "      <td>Acura</td>\n",
       "      <td>Integra</td>\n",
       "      <td>16.919</td>\n",
       "      <td>16.360</td>\n",
       "      <td>Passenger</td>\n",
       "      <td>21.50</td>\n",
       "      <td>1.8</td>\n",
       "      <td>140.0</td>\n",
       "      <td>101.2</td>\n",
       "      <td>67.3</td>\n",
       "      <td>172.4</td>\n",
       "      <td>2.639</td>\n",
       "      <td>13.2</td>\n",
       "      <td>28.0</td>\n",
       "      <td>2/2/2012</td>\n",
       "      <td>58.280150</td>\n",
       "    </tr>\n",
       "    <tr>\n",
       "      <th>1</th>\n",
       "      <td>Acura</td>\n",
       "      <td>TL</td>\n",
       "      <td>39.384</td>\n",
       "      <td>19.875</td>\n",
       "      <td>Passenger</td>\n",
       "      <td>28.40</td>\n",
       "      <td>3.2</td>\n",
       "      <td>225.0</td>\n",
       "      <td>108.1</td>\n",
       "      <td>70.3</td>\n",
       "      <td>192.9</td>\n",
       "      <td>3.517</td>\n",
       "      <td>17.2</td>\n",
       "      <td>25.0</td>\n",
       "      <td>6/3/2011</td>\n",
       "      <td>91.370778</td>\n",
       "    </tr>\n",
       "    <tr>\n",
       "      <th>2</th>\n",
       "      <td>Acura</td>\n",
       "      <td>CL</td>\n",
       "      <td>14.114</td>\n",
       "      <td>18.225</td>\n",
       "      <td>Passenger</td>\n",
       "      <td>NaN</td>\n",
       "      <td>3.2</td>\n",
       "      <td>225.0</td>\n",
       "      <td>106.9</td>\n",
       "      <td>70.6</td>\n",
       "      <td>192.0</td>\n",
       "      <td>3.470</td>\n",
       "      <td>17.2</td>\n",
       "      <td>26.0</td>\n",
       "      <td>1/4/2012</td>\n",
       "      <td>NaN</td>\n",
       "    </tr>\n",
       "    <tr>\n",
       "      <th>3</th>\n",
       "      <td>Acura</td>\n",
       "      <td>RL</td>\n",
       "      <td>8.588</td>\n",
       "      <td>29.725</td>\n",
       "      <td>Passenger</td>\n",
       "      <td>42.00</td>\n",
       "      <td>3.5</td>\n",
       "      <td>210.0</td>\n",
       "      <td>114.6</td>\n",
       "      <td>71.4</td>\n",
       "      <td>196.6</td>\n",
       "      <td>3.850</td>\n",
       "      <td>18.0</td>\n",
       "      <td>22.0</td>\n",
       "      <td>3/10/2011</td>\n",
       "      <td>91.389779</td>\n",
       "    </tr>\n",
       "    <tr>\n",
       "      <th>4</th>\n",
       "      <td>Audi</td>\n",
       "      <td>A4</td>\n",
       "      <td>20.397</td>\n",
       "      <td>22.255</td>\n",
       "      <td>Passenger</td>\n",
       "      <td>23.99</td>\n",
       "      <td>1.8</td>\n",
       "      <td>150.0</td>\n",
       "      <td>102.6</td>\n",
       "      <td>68.2</td>\n",
       "      <td>178.0</td>\n",
       "      <td>2.998</td>\n",
       "      <td>16.4</td>\n",
       "      <td>27.0</td>\n",
       "      <td>10/8/2011</td>\n",
       "      <td>62.777639</td>\n",
       "    </tr>\n",
       "  </tbody>\n",
       "</table>\n",
       "</div>"
      ],
      "text/plain": [
       "  Manufacturer    Model  Sales_in_thousands  __year_resale_value Vehicle_type  \\\n",
       "0        Acura  Integra              16.919               16.360    Passenger   \n",
       "1        Acura       TL              39.384               19.875    Passenger   \n",
       "2        Acura       CL              14.114               18.225    Passenger   \n",
       "3        Acura       RL               8.588               29.725    Passenger   \n",
       "4         Audi       A4              20.397               22.255    Passenger   \n",
       "\n",
       "   Price_in_thousands  Engine_size  Horsepower  Wheelbase  Width  Length  \\\n",
       "0               21.50          1.8       140.0      101.2   67.3   172.4   \n",
       "1               28.40          3.2       225.0      108.1   70.3   192.9   \n",
       "2                 NaN          3.2       225.0      106.9   70.6   192.0   \n",
       "3               42.00          3.5       210.0      114.6   71.4   196.6   \n",
       "4               23.99          1.8       150.0      102.6   68.2   178.0   \n",
       "\n",
       "   Curb_weight  Fuel_capacity  Fuel_efficiency Latest_Launch  \\\n",
       "0        2.639           13.2             28.0      2/2/2012   \n",
       "1        3.517           17.2             25.0      6/3/2011   \n",
       "2        3.470           17.2             26.0      1/4/2012   \n",
       "3        3.850           18.0             22.0     3/10/2011   \n",
       "4        2.998           16.4             27.0     10/8/2011   \n",
       "\n",
       "   Power_perf_factor  \n",
       "0          58.280150  \n",
       "1          91.370778  \n",
       "2                NaN  \n",
       "3          91.389779  \n",
       "4          62.777639  "
      ]
     },
     "execution_count": 34,
     "metadata": {},
     "output_type": "execute_result"
    }
   ],
   "source": [
    "df = pd.read_csv('Car_sales.csv')\n",
    "df.head()"
   ]
  },
  {
   "cell_type": "code",
   "execution_count": 35,
   "metadata": {},
   "outputs": [
    {
     "data": {
      "text/plain": [
       "Manufacturer            0\n",
       "Model                   0\n",
       "Sales_in_thousands      0\n",
       "__year_resale_value    36\n",
       "Vehicle_type            0\n",
       "Price_in_thousands      2\n",
       "Engine_size             1\n",
       "Horsepower              1\n",
       "Wheelbase               1\n",
       "Width                   1\n",
       "Length                  1\n",
       "Curb_weight             2\n",
       "Fuel_capacity           1\n",
       "Fuel_efficiency         3\n",
       "Latest_Launch           0\n",
       "Power_perf_factor       2\n",
       "dtype: int64"
      ]
     },
     "execution_count": 35,
     "metadata": {},
     "output_type": "execute_result"
    }
   ],
   "source": [
    "df.isnull().sum()"
   ]
  },
  {
   "cell_type": "code",
   "execution_count": 36,
   "metadata": {},
   "outputs": [],
   "source": [
    "df.dropna(inplace = True)"
   ]
  },
  {
   "cell_type": "code",
   "execution_count": 37,
   "metadata": {},
   "outputs": [
    {
     "data": {
      "text/html": [
       "<div>\n",
       "<style scoped>\n",
       "    .dataframe tbody tr th:only-of-type {\n",
       "        vertical-align: middle;\n",
       "    }\n",
       "\n",
       "    .dataframe tbody tr th {\n",
       "        vertical-align: top;\n",
       "    }\n",
       "\n",
       "    .dataframe thead th {\n",
       "        text-align: right;\n",
       "    }\n",
       "</style>\n",
       "<table border=\"1\" class=\"dataframe\">\n",
       "  <thead>\n",
       "    <tr style=\"text-align: right;\">\n",
       "      <th></th>\n",
       "      <th>Manufacturer</th>\n",
       "      <th>Model</th>\n",
       "      <th>Sales_in_thousands</th>\n",
       "      <th>__year_resale_value</th>\n",
       "      <th>Vehicle_type</th>\n",
       "      <th>Price_in_thousands</th>\n",
       "      <th>Engine_size</th>\n",
       "      <th>Horsepower</th>\n",
       "      <th>Wheelbase</th>\n",
       "      <th>Width</th>\n",
       "      <th>Length</th>\n",
       "      <th>Curb_weight</th>\n",
       "      <th>Fuel_capacity</th>\n",
       "      <th>Fuel_efficiency</th>\n",
       "      <th>Latest_Launch</th>\n",
       "      <th>Power_perf_factor</th>\n",
       "    </tr>\n",
       "  </thead>\n",
       "  <tbody>\n",
       "    <tr>\n",
       "      <th>0</th>\n",
       "      <td>Acura</td>\n",
       "      <td>Integra</td>\n",
       "      <td>16.919</td>\n",
       "      <td>16.360</td>\n",
       "      <td>Passenger</td>\n",
       "      <td>21.50</td>\n",
       "      <td>1.8</td>\n",
       "      <td>140.0</td>\n",
       "      <td>101.2</td>\n",
       "      <td>67.3</td>\n",
       "      <td>172.4</td>\n",
       "      <td>2.639</td>\n",
       "      <td>13.2</td>\n",
       "      <td>28.0</td>\n",
       "      <td>2/2/2012</td>\n",
       "      <td>58.280150</td>\n",
       "    </tr>\n",
       "    <tr>\n",
       "      <th>1</th>\n",
       "      <td>Acura</td>\n",
       "      <td>TL</td>\n",
       "      <td>39.384</td>\n",
       "      <td>19.875</td>\n",
       "      <td>Passenger</td>\n",
       "      <td>28.40</td>\n",
       "      <td>3.2</td>\n",
       "      <td>225.0</td>\n",
       "      <td>108.1</td>\n",
       "      <td>70.3</td>\n",
       "      <td>192.9</td>\n",
       "      <td>3.517</td>\n",
       "      <td>17.2</td>\n",
       "      <td>25.0</td>\n",
       "      <td>6/3/2011</td>\n",
       "      <td>91.370778</td>\n",
       "    </tr>\n",
       "    <tr>\n",
       "      <th>3</th>\n",
       "      <td>Acura</td>\n",
       "      <td>RL</td>\n",
       "      <td>8.588</td>\n",
       "      <td>29.725</td>\n",
       "      <td>Passenger</td>\n",
       "      <td>42.00</td>\n",
       "      <td>3.5</td>\n",
       "      <td>210.0</td>\n",
       "      <td>114.6</td>\n",
       "      <td>71.4</td>\n",
       "      <td>196.6</td>\n",
       "      <td>3.850</td>\n",
       "      <td>18.0</td>\n",
       "      <td>22.0</td>\n",
       "      <td>3/10/2011</td>\n",
       "      <td>91.389779</td>\n",
       "    </tr>\n",
       "    <tr>\n",
       "      <th>4</th>\n",
       "      <td>Audi</td>\n",
       "      <td>A4</td>\n",
       "      <td>20.397</td>\n",
       "      <td>22.255</td>\n",
       "      <td>Passenger</td>\n",
       "      <td>23.99</td>\n",
       "      <td>1.8</td>\n",
       "      <td>150.0</td>\n",
       "      <td>102.6</td>\n",
       "      <td>68.2</td>\n",
       "      <td>178.0</td>\n",
       "      <td>2.998</td>\n",
       "      <td>16.4</td>\n",
       "      <td>27.0</td>\n",
       "      <td>10/8/2011</td>\n",
       "      <td>62.777639</td>\n",
       "    </tr>\n",
       "    <tr>\n",
       "      <th>5</th>\n",
       "      <td>Audi</td>\n",
       "      <td>A6</td>\n",
       "      <td>18.780</td>\n",
       "      <td>23.555</td>\n",
       "      <td>Passenger</td>\n",
       "      <td>33.95</td>\n",
       "      <td>2.8</td>\n",
       "      <td>200.0</td>\n",
       "      <td>108.7</td>\n",
       "      <td>76.1</td>\n",
       "      <td>192.0</td>\n",
       "      <td>3.561</td>\n",
       "      <td>18.5</td>\n",
       "      <td>22.0</td>\n",
       "      <td>8/9/2011</td>\n",
       "      <td>84.565105</td>\n",
       "    </tr>\n",
       "  </tbody>\n",
       "</table>\n",
       "</div>"
      ],
      "text/plain": [
       "  Manufacturer    Model  Sales_in_thousands  __year_resale_value Vehicle_type  \\\n",
       "0        Acura  Integra              16.919               16.360    Passenger   \n",
       "1        Acura       TL              39.384               19.875    Passenger   \n",
       "3        Acura       RL               8.588               29.725    Passenger   \n",
       "4         Audi       A4              20.397               22.255    Passenger   \n",
       "5         Audi       A6              18.780               23.555    Passenger   \n",
       "\n",
       "   Price_in_thousands  Engine_size  Horsepower  Wheelbase  Width  Length  \\\n",
       "0               21.50          1.8       140.0      101.2   67.3   172.4   \n",
       "1               28.40          3.2       225.0      108.1   70.3   192.9   \n",
       "3               42.00          3.5       210.0      114.6   71.4   196.6   \n",
       "4               23.99          1.8       150.0      102.6   68.2   178.0   \n",
       "5               33.95          2.8       200.0      108.7   76.1   192.0   \n",
       "\n",
       "   Curb_weight  Fuel_capacity  Fuel_efficiency Latest_Launch  \\\n",
       "0        2.639           13.2             28.0      2/2/2012   \n",
       "1        3.517           17.2             25.0      6/3/2011   \n",
       "3        3.850           18.0             22.0     3/10/2011   \n",
       "4        2.998           16.4             27.0     10/8/2011   \n",
       "5        3.561           18.5             22.0      8/9/2011   \n",
       "\n",
       "   Power_perf_factor  \n",
       "0          58.280150  \n",
       "1          91.370778  \n",
       "3          91.389779  \n",
       "4          62.777639  \n",
       "5          84.565105  "
      ]
     },
     "execution_count": 37,
     "metadata": {},
     "output_type": "execute_result"
    }
   ],
   "source": [
    "df.head()"
   ]
  },
  {
   "cell_type": "code",
   "execution_count": 38,
   "metadata": {},
   "outputs": [
    {
     "data": {
      "text/plain": [
       "<matplotlib.axes._subplots.AxesSubplot at 0x18a14e06048>"
      ]
     },
     "execution_count": 38,
     "metadata": {},
     "output_type": "execute_result"
    },
    {
     "data": {
      "image/png": "[encoded data removed]",
      "text/plain": [
       "<Figure size 432x288 with 2 Axes>"
      ]
     },
     "metadata": {
      "needs_background": "light"
     },
     "output_type": "display_data"
    }
   ],
   "source": [
    "sns.heatmap(df.isnull())"
   ]
  },
  {
   "cell_type": "code",
   "execution_count": 39,
   "metadata": {},
   "outputs": [
    {
     "data": {
      "text/html": [
       "<div>\n",
       "<style scoped>\n",
       "    .dataframe tbody tr th:only-of-type {\n",
       "        vertical-align: middle;\n",
       "    }\n",
       "\n",
       "    .dataframe tbody tr th {\n",
       "        vertical-align: top;\n",
       "    }\n",
       "\n",
       "    .dataframe thead th {\n",
       "        text-align: right;\n",
       "    }\n",
       "</style>\n",
       "<table border=\"1\" class=\"dataframe\">\n",
       "  <thead>\n",
       "    <tr style=\"text-align: right;\">\n",
       "      <th></th>\n",
       "      <th>Sales_in_thousands</th>\n",
       "      <th>__year_resale_value</th>\n",
       "      <th>Price_in_thousands</th>\n",
       "      <th>Engine_size</th>\n",
       "      <th>Horsepower</th>\n",
       "      <th>Wheelbase</th>\n",
       "      <th>Width</th>\n",
       "      <th>Length</th>\n",
       "      <th>Curb_weight</th>\n",
       "      <th>Fuel_capacity</th>\n",
       "      <th>Fuel_efficiency</th>\n",
       "      <th>Power_perf_factor</th>\n",
       "    </tr>\n",
       "  </thead>\n",
       "  <tbody>\n",
       "    <tr>\n",
       "      <th>count</th>\n",
       "      <td>117.000000</td>\n",
       "      <td>117.000000</td>\n",
       "      <td>117.000000</td>\n",
       "      <td>117.000000</td>\n",
       "      <td>117.000000</td>\n",
       "      <td>117.000000</td>\n",
       "      <td>117.000000</td>\n",
       "      <td>117.000000</td>\n",
       "      <td>117.000000</td>\n",
       "      <td>117.000000</td>\n",
       "      <td>117.000000</td>\n",
       "      <td>117.000000</td>\n",
       "    </tr>\n",
       "    <tr>\n",
       "      <th>mean</th>\n",
       "      <td>59.112316</td>\n",
       "      <td>18.031538</td>\n",
       "      <td>25.969487</td>\n",
       "      <td>3.048718</td>\n",
       "      <td>181.282051</td>\n",
       "      <td>107.326496</td>\n",
       "      <td>71.189744</td>\n",
       "      <td>187.717949</td>\n",
       "      <td>3.324051</td>\n",
       "      <td>17.812821</td>\n",
       "      <td>24.119658</td>\n",
       "      <td>74.930921</td>\n",
       "    </tr>\n",
       "    <tr>\n",
       "      <th>std</th>\n",
       "      <td>75.058933</td>\n",
       "      <td>11.605632</td>\n",
       "      <td>14.149699</td>\n",
       "      <td>1.055169</td>\n",
       "      <td>58.591786</td>\n",
       "      <td>8.050588</td>\n",
       "      <td>3.530151</td>\n",
       "      <td>13.849926</td>\n",
       "      <td>0.597177</td>\n",
       "      <td>3.794609</td>\n",
       "      <td>4.404470</td>\n",
       "      <td>25.771796</td>\n",
       "    </tr>\n",
       "    <tr>\n",
       "      <th>min</th>\n",
       "      <td>0.110000</td>\n",
       "      <td>5.160000</td>\n",
       "      <td>9.235000</td>\n",
       "      <td>1.000000</td>\n",
       "      <td>55.000000</td>\n",
       "      <td>92.600000</td>\n",
       "      <td>62.600000</td>\n",
       "      <td>149.400000</td>\n",
       "      <td>1.895000</td>\n",
       "      <td>10.300000</td>\n",
       "      <td>15.000000</td>\n",
       "      <td>23.276272</td>\n",
       "    </tr>\n",
       "    <tr>\n",
       "      <th>25%</th>\n",
       "      <td>16.767000</td>\n",
       "      <td>11.240000</td>\n",
       "      <td>16.980000</td>\n",
       "      <td>2.200000</td>\n",
       "      <td>140.000000</td>\n",
       "      <td>102.400000</td>\n",
       "      <td>68.500000</td>\n",
       "      <td>177.500000</td>\n",
       "      <td>2.911000</td>\n",
       "      <td>15.300000</td>\n",
       "      <td>22.000000</td>\n",
       "      <td>55.297117</td>\n",
       "    </tr>\n",
       "    <tr>\n",
       "      <th>50%</th>\n",
       "      <td>32.299000</td>\n",
       "      <td>14.010000</td>\n",
       "      <td>21.665000</td>\n",
       "      <td>3.000000</td>\n",
       "      <td>175.000000</td>\n",
       "      <td>107.000000</td>\n",
       "      <td>70.400000</td>\n",
       "      <td>187.800000</td>\n",
       "      <td>3.340000</td>\n",
       "      <td>17.200000</td>\n",
       "      <td>24.000000</td>\n",
       "      <td>70.660942</td>\n",
       "    </tr>\n",
       "    <tr>\n",
       "      <th>75%</th>\n",
       "      <td>76.029000</td>\n",
       "      <td>19.875000</td>\n",
       "      <td>29.465000</td>\n",
       "      <td>3.800000</td>\n",
       "      <td>210.000000</td>\n",
       "      <td>111.600000</td>\n",
       "      <td>73.600000</td>\n",
       "      <td>196.500000</td>\n",
       "      <td>3.823000</td>\n",
       "      <td>19.800000</td>\n",
       "      <td>26.000000</td>\n",
       "      <td>85.828408</td>\n",
       "    </tr>\n",
       "    <tr>\n",
       "      <th>max</th>\n",
       "      <td>540.561000</td>\n",
       "      <td>67.550000</td>\n",
       "      <td>82.600000</td>\n",
       "      <td>8.000000</td>\n",
       "      <td>450.000000</td>\n",
       "      <td>138.700000</td>\n",
       "      <td>79.300000</td>\n",
       "      <td>224.500000</td>\n",
       "      <td>5.115000</td>\n",
       "      <td>32.000000</td>\n",
       "      <td>45.000000</td>\n",
       "      <td>188.144323</td>\n",
       "    </tr>\n",
       "  </tbody>\n",
       "</table>\n",
       "</div>"
      ],
      "text/plain": [
       "       Sales_in_thousands  __year_resale_value  Price_in_thousands  \\\n",
       "count          117.000000           117.000000          117.000000   \n",
       "mean            59.112316            18.031538           25.969487   \n",
       "std             75.058933            11.605632           14.149699   \n",
       "min              0.110000             5.160000            9.235000   \n",
       "25%             16.767000            11.240000           16.980000   \n",
       "50%             32.299000            14.010000           21.665000   \n",
       "75%             76.029000            19.875000           29.465000   \n",
       "max            540.561000            67.550000           82.600000   \n",
       "\n",
       "       Engine_size  Horsepower   Wheelbase       Width      Length  \\\n",
       "count   117.000000  117.000000  117.000000  117.000000  117.000000   \n",
       "mean      3.048718  181.282051  107.326496   71.189744  187.717949   \n",
       "std       1.055169   58.591786    8.050588    3.530151   13.849926   \n",
       "min       1.000000   55.000000   92.600000   62.600000  149.400000   \n",
       "25%       2.200000  140.000000  102.400000   68.500000  177.500000   \n",
       "50%       3.000000  175.000000  107.000000   70.400000  187.800000   \n",
       "75%       3.800000  210.000000  111.600000   73.600000  196.500000   \n",
       "max       8.000000  450.000000  138.700000   79.300000  224.500000   \n",
       "\n",
       "       Curb_weight  Fuel_capacity  Fuel_efficiency  Power_perf_factor  \n",
       "count   117.000000     117.000000       117.000000         117.000000  \n",
       "mean      3.324051      17.812821        24.119658          74.930921  \n",
       "std       0.597177       3.794609         4.404470          25.771796  \n",
       "min       1.895000      10.300000        15.000000          23.276272  \n",
       "25%       2.911000      15.300000        22.000000          55.297117  \n",
       "50%       3.340000      17.200000        24.000000          70.660942  \n",
       "75%       3.823000      19.800000        26.000000          85.828408  \n",
       "max       5.115000      32.000000        45.000000         188.144323  "
      ]
     },
     "execution_count": 39,
     "metadata": {},
     "output_type": "execute_result"
    }
   ],
   "source": [
    "df.describe()"
   ]
  },
  {
   "cell_type": "code",
   "execution_count": 40,
   "metadata": {},
   "outputs": [
    {
     "name": "stdout",
     "output_type": "stream",
     "text": [
      "   Engine_size  Horsepower  Fuel_efficiency  Price_in_thousands\n",
      "0          1.8       140.0             28.0               21.50\n",
      "1          3.2       225.0             25.0               28.40\n",
      "3          3.5       210.0             22.0               42.00\n",
      "4          1.8       150.0             27.0               23.99\n",
      "5          2.8       200.0             22.0               33.95\n"
     ]
    }
   ],
   "source": [
    "df = df[['Engine_size','Horsepower','Fuel_efficiency','Price_in_thousands']]\n",
    "print(df.head())"
   ]
  },
  {
   "cell_type": "code",
   "execution_count": 41,
   "metadata": {},
   "outputs": [
    {
     "data": {
      "text/plain": [
       "<matplotlib.collections.PathCollection at 0x18a14f2bf88>"
      ]
     },
     "execution_count": 41,
     "metadata": {},
     "output_type": "execute_result"
    },
    {
     "data": {
      "image/png": "[encoded data removed]",
      "text/plain": [
       "<Figure size 432x288 with 1 Axes>"
      ]
     },
     "metadata": {
      "needs_background": "light"
     },
     "output_type": "display_data"
    }
   ],
   "source": [
    "plt.scatter(df['Engine_size'],df['Price_in_thousands'])"
   ]
  },
  {
   "cell_type": "code",
   "execution_count": 42,
   "metadata": {},
   "outputs": [
    {
     "data": {
      "text/plain": [
       "<matplotlib.collections.PathCollection at 0x18a14f2bf08>"
      ]
     },
     "execution_count": 42,
     "metadata": {},
     "output_type": "execute_result"
    },
    {
     "data": {
      "image/png": "[encoded data removed]",
      "text/plain": [
       "<Figure size 432x288 with 1 Axes>"
      ]
     },
     "metadata": {
      "needs_background": "light"
     },
     "output_type": "display_data"
    }
   ],
   "source": [
    "plt.scatter(df['Horsepower'],df['Price_in_thousands'])"
   ]
  },
  {
   "cell_type": "code",
   "execution_count": 43,
   "metadata": {},
   "outputs": [
    {
     "data": {
      "text/plain": [
       "<matplotlib.collections.PathCollection at 0x18a1500fec8>"
      ]
     },
     "execution_count": 43,
     "metadata": {},
     "output_type": "execute_result"
    },
    {
     "data": {
      "image/png": "[encoded data removed]",
      "text/plain": [
       "<Figure size 432x288 with 1 Axes>"
      ]
     },
     "metadata": {
      "needs_background": "light"
     },
     "output_type": "display_data"
    }
   ],
   "source": [
    "plt.scatter(df['Fuel_efficiency'],df['Price_in_thousands'])"
   ]
  },
  {
   "cell_type": "code",
   "execution_count": 44,
   "metadata": {},
   "outputs": [
    {
     "name": "stdout",
     "output_type": "stream",
     "text": [
      "[[  1.8 140.   28. ]\n",
      " [  3.2 225.   25. ]\n",
      " [  3.5 210.   22. ]\n",
      " [  1.8 150.   27. ]\n",
      " [  2.8 200.   22. ]\n",
      " [  4.2 310.   21. ]\n",
      " [  2.8 193.   24. ]\n",
      " [  2.8 193.   25. ]\n",
      " [  3.1 175.   25. ]\n",
      " [  3.8 240.   23. ]\n",
      " [  3.8 205.   24. ]\n",
      " [  3.8 205.   25. ]\n",
      " [  4.6 275.   22. ]\n",
      " [  4.6 275.   22. ]\n",
      " [  3.  200.   22. ]\n",
      " [  2.2 115.   27. ]\n",
      " [  3.1 170.   25. ]\n",
      " [  3.1 175.   25. ]\n",
      " [  3.4 180.   27. ]\n",
      " [  3.8 200.   25. ]\n",
      " [  5.7 345.   22. ]\n",
      " [  1.8 120.   33. ]\n",
      " [  1.   55.   45. ]\n",
      " [  2.5 163.   24. ]\n",
      " [  2.5 168.   24. ]\n",
      " [  2.7 200.   26. ]\n",
      " [  2.  132.   27. ]\n",
      " [  3.5 253.   23. ]\n",
      " [  2.  132.   29. ]\n",
      " [  2.5 163.   24. ]\n",
      " [  2.5 168.   24. ]\n",
      " [  8.  450.   16. ]\n",
      " [  5.2 230.   17. ]\n",
      " [  3.9 175.   15. ]\n",
      " [  3.9 175.   16. ]\n",
      " [  2.5 120.   19. ]\n",
      " [  2.4 150.   24. ]\n",
      " [  2.  110.   30. ]\n",
      " [  3.8 190.   24. ]\n",
      " [  2.5 170.   25. ]\n",
      " [  3.  155.   24. ]\n",
      " [  4.6 200.   21. ]\n",
      " [  4.  210.   19. ]\n",
      " [  3.  150.   21. ]\n",
      " [  4.6 240.   16. ]\n",
      " [  2.5 119.   23. ]\n",
      " [  4.6 220.   18. ]\n",
      " [  1.6 106.   32. ]\n",
      " [  2.3 135.   27. ]\n",
      " [  2.  146.   24. ]\n",
      " [  3.2 205.   19. ]\n",
      " [  3.5 210.   23. ]\n",
      " [  1.5  92.   31. ]\n",
      " [  2.  140.   27. ]\n",
      " [  2.4 148.   25. ]\n",
      " [  3.  227.   25. ]\n",
      " [  2.5 120.   17. ]\n",
      " [  4.  190.   20. ]\n",
      " [  4.  195.   19. ]\n",
      " [  3.  210.   23. ]\n",
      " [  3.  225.   23. ]\n",
      " [  4.  290.   22. ]\n",
      " [  4.6 275.   22. ]\n",
      " [  4.6 215.   21. ]\n",
      " [  1.8 113.   30. ]\n",
      " [  2.4 154.   24. ]\n",
      " [  2.4 145.   25. ]\n",
      " [  3.5 210.   22. ]\n",
      " [  3.  161.   21. ]\n",
      " [  3.5 200.   18. ]\n",
      " [  3.  173.   20. ]\n",
      " [  2.  125.   28. ]\n",
      " [  2.  125.   30. ]\n",
      " [  3.  153.   24. ]\n",
      " [  4.6 200.   21. ]\n",
      " [  4.  210.   18. ]\n",
      " [  3.3 170.   21. ]\n",
      " [  2.3 185.   26. ]\n",
      " [  3.2 221.   25. ]\n",
      " [  4.3 275.   21. ]\n",
      " [  5.  302.   20. ]\n",
      " [  1.8 126.   30. ]\n",
      " [  2.4 155.   25. ]\n",
      " [  3.  222.   25. ]\n",
      " [  3.3 170.   21. ]\n",
      " [  3.3 170.   19. ]\n",
      " [  3.1 150.   25. ]\n",
      " [  4.  250.   22. ]\n",
      " [  4.3 190.   19. ]\n",
      " [  3.4 185.   22. ]\n",
      " [  2.  132.   29. ]\n",
      " [  2.  132.   27. ]\n",
      " [  2.4 150.   24. ]\n",
      " [  2.4 150.   27. ]\n",
      " [  3.4 175.   25. ]\n",
      " [  3.8 200.   25. ]\n",
      " [  3.8 195.   25. ]\n",
      " [  3.8 205.   24. ]\n",
      " [  2.7 217.   22. ]\n",
      " [  3.4 300.   21. ]\n",
      " [  3.4 300.   23. ]\n",
      " [  1.9 100.   33. ]\n",
      " [  1.9 100.   33. ]\n",
      " [  1.9 124.   31. ]\n",
      " [  1.8 120.   33. ]\n",
      " [  2.2 133.   27. ]\n",
      " [  3.  210.   26. ]\n",
      " [  1.8 140.   31. ]\n",
      " [  2.4 142.   23. ]\n",
      " [  2.  127.   27. ]\n",
      " [  2.7 150.   23. ]\n",
      " [  4.7 230.   15. ]\n",
      " [  2.  115.   26. ]\n",
      " [  2.  115.   26. ]\n",
      " [  1.8 150.   27. ]\n",
      " [  2.  115.   26. ]\n",
      " [  2.  115.   26. ]]\n"
     ]
    }
   ],
   "source": [
    "features = df[['Engine_size','Horsepower','Fuel_efficiency']].to_numpy()\n",
    "print(features)"
   ]
  },
  {
   "cell_type": "code",
   "execution_count": 45,
   "metadata": {},
   "outputs": [],
   "source": [
    "for i in range(3):\n",
    "    min = np.min(features[:,i])\n",
    "    max = np.max(features[:,i])\n",
    "    features[:,i] = np.min(features[:,i] - min)/(max-min)"
   ]
  },
  {
   "cell_type": "code",
   "execution_count": 46,
   "metadata": {},
   "outputs": [
    {
     "name": "stdout",
     "output_type": "stream",
     "text": [
      "[21.5   28.4   42.    23.99  33.95  62.    33.4   38.9   21.975 25.3\n",
      " 31.965 27.885 39.895 39.665 31.01  13.26  16.535 18.89  19.39  24.34\n",
      " 45.705 13.96   9.235 19.84  24.495 22.245 16.48  28.34  12.64  19.045\n",
      " 20.23  69.725 19.46  21.315 18.575 16.98  19.565 12.07  21.56  17.035\n",
      " 17.885 22.195 31.93  21.41  36.135 12.05  26.935 12.885 15.35  20.55\n",
      " 26.6   26.     9.699 11.799 14.999 29.465 14.46  21.62  26.895 31.505\n",
      " 37.805 54.005 39.08  43.33  13.987 19.047 17.357 24.997 25.45  31.807\n",
      " 22.527 16.24  16.54  19.035 22.605 27.56  22.51  31.75  49.9   69.7\n",
      " 82.6   13.499 20.39  26.249 26.399 29.299 18.145 36.229 31.598 25.345\n",
      " 12.64  16.08  18.85  21.61  19.72  25.31  21.665 23.755 41.43  71.02\n",
      " 74.97  10.685 12.535 14.29  13.108 17.518 25.545 16.875 11.528 16.888\n",
      " 22.288 51.728 14.9   16.7   21.2   19.99  17.5  ]\n"
     ]
    }
   ],
   "source": [
    "target = df['Price_in_thousands'].to_numpy()\n",
    "print(target)"
   ]
  },
  {
   "cell_type": "code",
   "execution_count": 47,
   "metadata": {},
   "outputs": [
    {
     "name": "stdout",
     "output_type": "stream",
     "text": [
      "[0.71707896 0.79084674 0.55771679]\n"
     ]
    }
   ],
   "source": [
    "weights = np.random.rand(3) #randomly generated weights\n",
    "print(weights)"
   ]
  },
  {
   "cell_type": "code",
   "execution_count": 48,
   "metadata": {},
   "outputs": [
    {
     "name": "stdout",
     "output_type": "stream",
     "text": [
      "[0.11017573 0.11017573 0.11017573 0.11017573 0.11017573 0.11017573\n",
      " 0.11017573 0.11017573 0.11017573 0.11017573 0.11017573 0.11017573\n",
      " 0.11017573 0.11017573 0.11017573 0.11017573 0.11017573 0.11017573\n",
      " 0.11017573 0.11017573 0.11017573 0.11017573 0.11017573 0.11017573\n",
      " 0.11017573 0.11017573 0.11017573 0.11017573 0.11017573 0.11017573\n",
      " 0.11017573 0.11017573 0.11017573 0.11017573 0.11017573 0.11017573\n",
      " 0.11017573 0.11017573 0.11017573 0.11017573 0.11017573 0.11017573\n",
      " 0.11017573 0.11017573 0.11017573 0.11017573 0.11017573 0.11017573\n",
      " 0.11017573 0.11017573 0.11017573 0.11017573 0.11017573 0.11017573\n",
      " 0.11017573 0.11017573 0.11017573 0.11017573 0.11017573 0.11017573\n",
      " 0.11017573 0.11017573 0.11017573 0.11017573 0.11017573 0.11017573\n",
      " 0.11017573 0.11017573 0.11017573 0.11017573 0.11017573 0.11017573\n",
      " 0.11017573 0.11017573 0.11017573 0.11017573 0.11017573 0.11017573\n",
      " 0.11017573 0.11017573 0.11017573 0.11017573 0.11017573 0.11017573\n",
      " 0.11017573 0.11017573 0.11017573 0.11017573 0.11017573 0.11017573\n",
      " 0.11017573 0.11017573 0.11017573 0.11017573 0.11017573 0.11017573\n",
      " 0.11017573 0.11017573 0.11017573 0.11017573 0.11017573 0.11017573\n",
      " 0.11017573 0.11017573 0.11017573 0.11017573 0.11017573 0.11017573\n",
      " 0.11017573 0.11017573 0.11017573 0.11017573 0.11017573 0.11017573\n",
      " 0.11017573 0.11017573 0.11017573]\n"
     ]
    }
   ],
   "source": [
    "b = np.random.rand(1) #randomly generated bias\n",
    "bias = np.array([b[0] for i in range(len(features))])\n",
    "print(bias)"
   ]
  },
  {
   "cell_type": "code",
   "execution_count": 49,
   "metadata": {},
   "outputs": [],
   "source": [
    "def linear(features,weights,bias):\n",
    "    y_hat = weights.dot(features.transpose()) + np.array([b[0] for i in range(len(features))])\n",
    "    return y_hat"
   ]
  },
  {
   "cell_type": "code",
   "execution_count": 50,
   "metadata": {},
   "outputs": [
    {
     "name": "stdout",
     "output_type": "stream",
     "text": [
      "[0.11017573 0.11017573 0.11017573 0.11017573 0.11017573 0.11017573\n",
      " 0.11017573 0.11017573 0.11017573 0.11017573 0.11017573 0.11017573\n",
      " 0.11017573 0.11017573 0.11017573 0.11017573 0.11017573 0.11017573\n",
      " 0.11017573 0.11017573 0.11017573 0.11017573 0.11017573 0.11017573\n",
      " 0.11017573 0.11017573 0.11017573 0.11017573 0.11017573 0.11017573\n",
      " 0.11017573 0.11017573 0.11017573 0.11017573 0.11017573 0.11017573\n",
      " 0.11017573 0.11017573 0.11017573 0.11017573 0.11017573 0.11017573\n",
      " 0.11017573 0.11017573 0.11017573 0.11017573 0.11017573 0.11017573\n",
      " 0.11017573 0.11017573 0.11017573 0.11017573 0.11017573 0.11017573\n",
      " 0.11017573 0.11017573 0.11017573 0.11017573 0.11017573 0.11017573\n",
      " 0.11017573 0.11017573 0.11017573 0.11017573 0.11017573 0.11017573\n",
      " 0.11017573 0.11017573 0.11017573 0.11017573 0.11017573 0.11017573\n",
      " 0.11017573 0.11017573 0.11017573 0.11017573 0.11017573 0.11017573\n",
      " 0.11017573 0.11017573 0.11017573 0.11017573 0.11017573 0.11017573\n",
      " 0.11017573 0.11017573 0.11017573 0.11017573 0.11017573 0.11017573\n",
      " 0.11017573 0.11017573 0.11017573 0.11017573 0.11017573 0.11017573\n",
      " 0.11017573 0.11017573 0.11017573 0.11017573 0.11017573 0.11017573\n",
      " 0.11017573 0.11017573 0.11017573 0.11017573 0.11017573 0.11017573\n",
      " 0.11017573 0.11017573 0.11017573 0.11017573 0.11017573 0.11017573\n",
      " 0.11017573 0.11017573 0.11017573]\n"
     ]
    }
   ],
   "source": [
    "y_hat = linear(features,weights,b)\n",
    "print(y_hat)"
   ]
  },
  {
   "cell_type": "code",
   "execution_count": 51,
   "metadata": {},
   "outputs": [],
   "source": [
    "def meansquare(y,y_hat):\n",
    "    MSE = np.sum((y-y_hat) **2) / len(y)\n",
    "    return MSE"
   ]
  },
  {
   "cell_type": "code",
   "execution_count": 52,
   "metadata": {},
   "outputs": [
    {
     "name": "stdout",
     "output_type": "stream",
     "text": [
      "867.2067501091809\n"
     ]
    }
   ],
   "source": [
    "error = meansquare(target,y_hat)\n",
    "print(error)"
   ]
  },
  {
   "cell_type": "code",
   "execution_count": 53,
   "metadata": {},
   "outputs": [],
   "source": [
    "def gradient(target,features,weights,bias):\n",
    "    m =len(features)\n",
    "    target_pred = linear(features,weights,bias)\n",
    "    loss = target - target_pred\n",
    "    grad_bias = np.array([-2/m * np.sum(loss)])\n",
    "    grad_weights = np.ones(3)\n",
    "    feature_0 = np.array([feature[0] for feature in features])\n",
    "    grad_weights[0] = -2/m * np.sum(loss * feature_0)\n",
    "    feature_1 = np.array([feature[1] for feature in features])\n",
    "    grad_weights[1] = -2/m * np.sum(loss * feature_1)\n",
    "    feature_2 = np.array([feature[1] for feature in features])\n",
    "    grad_weights[2] = -2/m * np.sum(loss * feature_2)\n",
    "    return grad_bias,grad_weights  \n"
   ]
  },
  {
   "cell_type": "code",
   "execution_count": 54,
   "metadata": {},
   "outputs": [],
   "source": [
    "def grad_desc(learning_rate,epochs,target,features,weights,bias):\n",
    "    MSE_list = []\n",
    "    for i in range(epochs):\n",
    "        grad_bias,grad_weights = gradient(target,features,weights,bias)\n",
    "        weights -= grad_weights * learning_rate\n",
    "        bias -= grad_bias * learning_rate\n",
    "        new_pred = linear(features,weights,bias)\n",
    "        mse_new = meansquare(target,new_pred)\n",
    "        MSE_list.append(mse_new)\n",
    "    return_dict = {'weights': weights, 'bias': bias[0], 'MSE': mse_new, 'MSE_list': MSE_list}\n",
    "    return return_dict   "
   ]
  },
  {
   "cell_type": "code",
   "execution_count": 55,
   "metadata": {},
   "outputs": [],
   "source": [
    "model = grad_desc(0.0001,2000,target,features,weights,bias)"
   ]
  },
  {
   "cell_type": "code",
   "execution_count": 56,
   "metadata": {},
   "outputs": [
    {
     "name": "stdout",
     "output_type": "stream",
     "text": [
      "Weights- [0.71707896 0.79084674 0.55771679]\n",
      "Bias- 10.453900308557435\n",
      "MSE- 867.2067501091809\n"
     ]
    }
   ],
   "source": [
    "print(\"Weights- {}\\nBias- {}\\nMSE- {}\".format(model['weights'], model['bias'], model['MSE']))"
   ]
  },
  {
   "cell_type": "code",
   "execution_count": 57,
   "metadata": {},
   "outputs": [],
   "source": [
    "def linearmodel(model,feature_list):\n",
    "    price = np.sum(model['weights'] * feature_list) + model['bias']\n",
    "    return price"
   ]
  },
  {
   "cell_type": "code",
   "execution_count": 60,
   "metadata": {},
   "outputs": [
    {
     "name": "stdout",
     "output_type": "stream",
     "text": [
      "Price in thousands: 19.792037926523104\n"
     ]
    }
   ],
   "source": [
    "target_price = 196\n",
    "feature_list = [2.0,4,8.5]\n",
    "predicted_price = linearmodel(model, feature_list)\n",
    "print(\"Price in thousands:\",predicted_price)"
   ]
  },
  {
   "cell_type": "code",
   "execution_count": null,
   "metadata": {},
   "outputs": [],
   "source": []
  }
 ],
 "metadata": {
  "kernelspec": {
   "display_name": "Python 3",
   "language": "python",
   "name": "python3"
  },
  "language_info": {
   "codemirror_mode": {
    "name": "ipython",
    "version": 3
   },
   "file_extension": ".py",
   "mimetype": "text/x-python",
   "name": "python",
   "nbconvert_exporter": "python",
   "pygments_lexer": "ipython3",
   "version": "3.7.6"
  }
 },
 "nbformat": 4,
 "nbformat_minor": 4
}
